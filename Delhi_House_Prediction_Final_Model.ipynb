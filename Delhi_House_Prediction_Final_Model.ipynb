{
 "cells": [
  {
   "cell_type": "code",
   "execution_count": null,
   "id": "ffd48b1e",
   "metadata": {},
   "outputs": [],
   "source": [
    "#Import libraries\n",
    "import pandas as pd\n",
    "from sklearn.model_selection import train_test_split\n",
    "from sklearn.linear_model import Ridge\n",
    "from sklearn.preprocessing import OneHotEncoder, StandardScaler\n",
    "from sklearn.compose import make_column_transformer\n",
    "from sklearn.pipeline import make_pipeline\n",
    "from sklearn.metrics import r2_score\n",
    "import pickle"
   ]
  },
  {
   "cell_type": "code",
   "execution_count": null,
   "id": "630a4ea2",
   "metadata": {},
   "outputs": [],
   "source": [
    "# Load the dataset\n",
    "data = pd.read_csv(\"Delhi_v2.csv\")"
   ]
  },
  {
   "cell_type": "code",
   "execution_count": null,
   "id": "f17e9d7b",
   "metadata": {},
   "outputs": [],
   "source": [
    "# Clean and preprocess the data\n",
    "cleaned_data = data.drop([\"Unnamed: 0\", \"latitude\", \"longitude\", \"neworold\", \"Landmarks\", \n",
    "                          \"type_of_building\", \"desc\", \"Price_sqft\", \"Lift\", \"parking\"], axis=\"columns\")"
   ]
  },
  {
   "cell_type": "code",
   "execution_count": null,
   "id": "56f3c670",
   "metadata": {},
   "outputs": [],
   "source": [
    "# Fill missing values\n",
    "cleaned_data[\"Balcony\"] = cleaned_data[\"Balcony\"].fillna(cleaned_data[\"Bedrooms\"])\n",
    "cleaned_data[\"Status\"] = cleaned_data[\"Status\"].fillna(\"Under Construction\")\n",
    "\n",
    "price_mask = cleaned_data[\"price\"] > 6500000.0\n",
    "cleaned_data.loc[price_mask, \"Furnished_status\"] = cleaned_data.loc[price_mask, \"Furnished_status\"].fillna(\"Furnished\")\n",
    "cleaned_data.loc[~price_mask, \"Furnished_status\"] = cleaned_data.loc[~price_mask, \"Furnished_status\"].fillna(\"Unfurnished\")"
   ]
  },
  {
   "cell_type": "code",
   "execution_count": null,
   "id": "2cffe654",
   "metadata": {},
   "outputs": [],
   "source": [
    "# Normalize 'Address' column\n",
    "cleaned_data[\"Address\"] = cleaned_data[\"Address\"].apply(lambda x: x.strip())\n",
    "address_counts = cleaned_data[\"Address\"].value_counts()\n",
    "infrequent_addresses = address_counts[address_counts <= 10].index\n",
    "cleaned_data[\"Address\"] = cleaned_data[\"Address\"].apply(lambda x: \"Other\" if x in infrequent_addresses else x)"
   ]
  },
  {
   "cell_type": "code",
   "execution_count": null,
   "id": "82bf116b",
   "metadata": {},
   "outputs": [],
   "source": [
    "# Split the data into features and target variable\n",
    "X = cleaned_data.drop(columns=[\"price\"])\n",
    "y = cleaned_data[\"price\"]\n",
    "\n",
    "# Split the data into training and testing sets\n",
    "X_train, X_test, y_train, y_test = train_test_split(X, y, test_size=0.2, random_state=0)"
   ]
  },
  {
   "cell_type": "code",
   "execution_count": null,
   "id": "0fe5a2ec",
   "metadata": {},
   "outputs": [],
   "source": [
    "# Preprocess the categorical features\n",
    "column_transformer = make_column_transformer(\n",
    "    (OneHotEncoder(sparse_output=False), [\"Address\", \"Furnished_status\", \"Status\"]),\n",
    "    remainder=\"passthrough\"\n",
    ")"
   ]
  },
  {
   "cell_type": "code",
   "execution_count": null,
   "id": "27b171d0",
   "metadata": {},
   "outputs": [],
   "source": [
    "# Standardize the data and create the Ridge regression pipeline\n",
    "scaler = StandardScaler()\n",
    "ridge_regressor = Ridge()\n",
    "ridge_pipeline = make_pipeline(column_transformer, scaler, ridge_regressor)"
   ]
  },
  {
   "cell_type": "code",
   "execution_count": null,
   "id": "2ef08de0",
   "metadata": {},
   "outputs": [],
   "source": [
    "# Train the model\n",
    "ridge_pipeline.fit(X_train, y_train)\n",
    "\n",
    "# Predict on the test set\n",
    "y_pred_ridge = ridge_pipeline.predict(X_test)"
   ]
  },
  {
   "cell_type": "code",
   "execution_count": null,
   "id": "676d1bb1",
   "metadata": {},
   "outputs": [],
   "source": [
    "# Evaluate the model\n",
    "r2 = r2_score(y_test, y_pred_ridge)\n",
    "print(f\"R^2 Score: {r2}\")\n",
    "\n",
    "\n",
    "# Example of predicting a new data point\n",
    "new_data = pd.DataFrame([[\"Noida Extension, Noida, Delhi NCR\", 1350, 3, \"Unfurnished\", \"Ready to Move\", 2, 1]],\n",
    "                        columns=[\"Address\", \"area\", \"Bedrooms\", \"Furnished_status\", \"Status\", \"Bathrooms\", \"Balcony\"])\n",
    "\n",
    "predicted_price = ridge_pipeline.predict(new_data)[0]\n",
    "print(f\"Predicted Price: {predicted_price}\")"
   ]
  },
  {
   "cell_type": "code",
   "execution_count": null,
   "id": "b2597393",
   "metadata": {},
   "outputs": [],
   "source": []
  }
 ],
 "metadata": {
  "kernelspec": {
   "display_name": "Python 3 (ipykernel)",
   "language": "python",
   "name": "python3"
  },
  "language_info": {
   "codemirror_mode": {
    "name": "ipython",
    "version": 3
   },
   "file_extension": ".py",
   "mimetype": "text/x-python",
   "name": "python",
   "nbconvert_exporter": "python",
   "pygments_lexer": "ipython3",
   "version": "3.10.14"
  }
 },
 "nbformat": 4,
 "nbformat_minor": 5
}
